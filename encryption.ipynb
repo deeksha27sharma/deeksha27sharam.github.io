{
  "nbformat": 4,
  "nbformat_minor": 0,
  "metadata": {
    "colab": {
      "provenance": [],
      "authorship_tag": "ABX9TyNX0oNEeBnvMRoYKN38lRp5",
      "include_colab_link": true
    },
    "kernelspec": {
      "name": "python3",
      "display_name": "Python 3"
    },
    "language_info": {
      "name": "python"
    }
  },
  "cells": [
    {
      "cell_type": "markdown",
      "metadata": {
        "id": "view-in-github",
        "colab_type": "text"
      },
      "source": [
        "<a href=\"https://colab.research.google.com/github/deeksha27sharma/deeksha27sharam.github.io/blob/main/encryption.ipynb\" target=\"_parent\"><img src=\"https://colab.research.google.com/assets/colab-badge.svg\" alt=\"Open In Colab\"/></a>"
      ]
    },
    {
      "cell_type": "code",
      "execution_count": 1,
      "metadata": {
        "colab": {
          "base_uri": "https://localhost:8080/"
        },
        "id": "rpQ4b-1ToZ47",
        "outputId": "8e646301-0627-42a9-f645-22c6c0f34d33"
      },
      "outputs": [
        {
          "output_type": "stream",
          "name": "stdout",
          "text": [
            "enter a plain text\n",
            "udemy\n",
            "plain text udemy\n",
            "shift pattern:4\n",
            "cipher text zijrd\n"
          ]
        }
      ],
      "source": [
        "#encryption CYBERLAB\n",
        "def convert_text(txt,x):\n",
        "  r=''\n",
        "\n",
        "  #traverse of plain text\n",
        "  for i in range(len(txt)):\n",
        "    char=txt[i]\n",
        "#FORMULA(IF THE PLAIN TEXT IS IN UPPER CASE THAN\n",
        "#CONVERSION SHOULD BE IN UPPER CASE ONLY VICE VERSA )\n",
        "    if(char.isupper()):\n",
        "      r+=chr((ord(char)+x-64)%26+65)\n",
        "    else:\n",
        "      r+=chr((ord(char)+x-96)%26+97)\n",
        "  return r\n",
        "\n",
        "#check\n",
        "txt=input(\"enter a plain text\\n\")\n",
        "x=4\n",
        "\n",
        "print(\"plain text \"+ txt)\n",
        "print(\"shift pattern:\" + str(x))\n",
        "print(\"cipher text \"+ convert_text(txt,x))"
      ]
    }
  ]
}